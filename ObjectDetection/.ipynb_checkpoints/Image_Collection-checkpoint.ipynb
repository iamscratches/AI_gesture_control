{
 "cells": [
  {
   "cell_type": "markdown",
   "id": "1c60a6d9",
   "metadata": {},
   "source": [
    "# Import Dependencies"
   ]
  },
  {
   "cell_type": "code",
   "execution_count": 1,
   "id": "425f4981",
   "metadata": {},
   "outputs": [],
   "source": [
    "import cv2 \n",
    "import uuid\n",
    "import os\n",
    "import time"
   ]
  },
  {
   "cell_type": "markdown",
   "id": "956002fc",
   "metadata": {},
   "source": [
    "# Define Images to collect"
   ]
  },
  {
   "cell_type": "code",
   "execution_count": 31,
   "id": "567e1298",
   "metadata": {},
   "outputs": [],
   "source": [
    "# labels = ['thumbsup', 'thumbsdown', 'thankyou', 'close', 'mouth']\n",
    "labels = ['mouth']"
   ]
  },
  {
   "cell_type": "markdown",
   "id": "83120aa1",
   "metadata": {},
   "source": [
    "# Setup folders"
   ]
  },
  {
   "cell_type": "code",
   "execution_count": 32,
   "id": "e5a19cff",
   "metadata": {},
   "outputs": [],
   "source": [
    "IMAGES_PATH = os.path.join('Tensorflow', 'workspace', 'images', 'collectedimages')"
   ]
  },
  {
   "cell_type": "code",
   "execution_count": 33,
   "id": "7475004c",
   "metadata": {},
   "outputs": [],
   "source": [
    "if not os.path.exists(IMAGES_PATH):\n",
    "    if os.name == 'posix': # For linux users\n",
    "        !mkdir -p {IMAGES_PATH}\n",
    "    if os.name == 'nt': # For windows user\n",
    "         !mkdir {IMAGES_PATH}\n",
    "for label in labels:\n",
    "    path = os.path.join(IMAGES_PATH, label)\n",
    "    if not os.path.exists(path):\n",
    "        !mkdir {path}"
   ]
  },
  {
   "cell_type": "markdown",
   "id": "0ac0748d",
   "metadata": {},
   "source": [
    "\n",
    "# Capture Images"
   ]
  },
  {
   "cell_type": "code",
   "execution_count": 34,
   "id": "132ce574",
   "metadata": {},
   "outputs": [
    {
     "name": "stdout",
     "output_type": "stream",
     "text": [
      "Collecting images for mouth\n",
      "collecting image 0\n",
      "collecting image 1\n",
      "collecting image 2\n",
      "collecting image 3\n",
      "collecting image 4\n",
      "collecting image 5\n",
      "collecting image 6\n",
      "collecting image 7\n",
      "collecting image 8\n",
      "collecting image 9\n",
      "collecting image 10\n",
      "collecting image 11\n",
      "collecting image 12\n",
      "collecting image 13\n"
     ]
    }
   ],
   "source": [
    "number_imgs = 14\n",
    "for label in labels:\n",
    "    cap = cv2.VideoCapture(0)\n",
    "    print(\"Collecting images for {}\".format(label))\n",
    "    start = time.time()\n",
    "    while True:\n",
    "        if time.time() - start > 5:\n",
    "            break\n",
    "        ret, frame = cap.read()\n",
    "        frame = cv2.flip(frame, 1)\n",
    "        cv2.putText(frame, f'{int(5 - time.time() + start)}', (240, 340), cv2.FONT_HERSHEY_SIMPLEX, 10, (0, 255, 0), 10)\n",
    "        cv2.imshow('frame', frame)\n",
    "        if cv2.waitKey(1) & 0xFF == ord('q'):\n",
    "            break\n",
    "\n",
    "    for imgnum in range(number_imgs):\n",
    "        print('collecting image {}'.format(imgnum))\n",
    "        ret, frame = cap.read()        \n",
    "        imgname = os.path.join(IMAGES_PATH, label, label + '.' + '{}.jpg'.format(str(uuid.uuid1())))\n",
    "        cv2.imwrite(imgname, frame)\n",
    "        frame = cv2.flip(frame, 1)\n",
    "        imgname = os.path.join(IMAGES_PATH, label, label + '.' + '{}.jpg'.format(str(uuid.uuid1())))\n",
    "        cv2.imwrite(imgname, frame)\n",
    "        cv2.imshow(imgname, frame)\n",
    "        start = time.time()\n",
    "        while True:\n",
    "            if time.time() - start > 3:\n",
    "                break\n",
    "            ret, frame = cap.read()\n",
    "            frame = cv2.flip(frame, 1)\n",
    "            cv2.putText(frame, f'{int(3 - time.time() + start)}', (240, 340), cv2.FONT_HERSHEY_SIMPLEX, 10, (0, 255, 0), 10)\n",
    "            cv2.imshow('frame', frame)\n",
    "            if cv2.waitKey(1) & 0xFF == ord('q'):\n",
    "                break\n",
    "        cv2.destroyWindow(imgname)\n",
    "\n",
    "        if cv2.waitKey(1) & 0xFF == ord('q'):\n",
    "            break\n",
    "cap.release()\n",
    "cv2.destroyAllWindows()"
   ]
  },
  {
   "cell_type": "markdown",
   "id": "6f32f260",
   "metadata": {},
   "source": [
    "# Image Labelling"
   ]
  },
  {
   "cell_type": "code",
   "execution_count": null,
   "id": "8761b283",
   "metadata": {},
   "outputs": [],
   "source": [
    "!pip install --upgrade pyqt5 lxml"
   ]
  },
  {
   "cell_type": "code",
   "execution_count": 35,
   "id": "a95a9a44",
   "metadata": {},
   "outputs": [],
   "source": [
    "LABELIMG_PATH = os.path.join('Tensorflow', 'labelimg')"
   ]
  },
  {
   "cell_type": "code",
   "execution_count": null,
   "id": "d8ca5da1",
   "metadata": {},
   "outputs": [],
   "source": [
    "if not os.path.exists(LABELIMG_PATH):\n",
    "    !mkdir {LABELIMG_PATH}\n",
    "    !git clone https://github.com/tzutalin/labelImg {LABELIMG_PATH}"
   ]
  },
  {
   "cell_type": "code",
   "execution_count": null,
   "id": "e35f3a3f",
   "metadata": {},
   "outputs": [],
   "source": [
    "if os.name == 'posix':\n",
    "    !make qt5py3\n",
    "if os.name =='nt':\n",
    "    !cd {LABELIMG_PATH} && pyrcc5 -o libs/resources.py resources.qrc"
   ]
  },
  {
   "cell_type": "code",
   "execution_count": 39,
   "id": "52492f45",
   "metadata": {},
   "outputs": [
    {
     "name": "stdout",
     "output_type": "stream",
     "text": [
      "Image:E:\\projects\\AI_gesture_control\\ObjectDetection\\Tensorflow\\workspace\\images\\collectedimages\\thumbsup\\thumbsup.2fa09b06-e6ce-11eb-a3f5-28c63f8fd10c.jpg -> Annotation:E:/projects/AI_gesture_control/ObjectDetection/Tensorflow/workspace/images/collectedimages/thumbsup/thumbsup.2fa09b06-e6ce-11eb-a3f5-28c63f8fd10c.xml\n",
      "Image:E:\\projects\\AI_gesture_control\\ObjectDetection\\Tensorflow\\workspace\\images\\collectedimages\\thumbsup\\thumbsup.3b3cfb86-e6ce-11eb-a50c-28c63f8fd10c.jpg -> Annotation:E:/projects/AI_gesture_control/ObjectDetection/Tensorflow/workspace/images/collectedimages/thumbsup/thumbsup.3b3cfb86-e6ce-11eb-a50c-28c63f8fd10c.xml\n",
      "Image:E:\\projects\\AI_gesture_control\\ObjectDetection\\Tensorflow\\workspace\\images\\collectedimages\\thumbsup\\thumbsup.3b434ea4-e6ce-11eb-be98-28c63f8fd10c.jpg -> Annotation:E:/projects/AI_gesture_control/ObjectDetection/Tensorflow/workspace/images/collectedimages/thumbsup/thumbsup.3b434ea4-e6ce-11eb-be98-28c63f8fd10c.xml\n",
      "Image:E:\\projects\\AI_gesture_control\\ObjectDetection\\Tensorflow\\workspace\\images\\collectedimages\\thumbsup\\thumbsup.3d2f1790-e6ce-11eb-b01a-28c63f8fd10c.jpg -> Annotation:E:/projects/AI_gesture_control/ObjectDetection/Tensorflow/workspace/images/collectedimages/thumbsup/thumbsup.3d2f1790-e6ce-11eb-b01a-28c63f8fd10c.xml\n",
      "Image:E:\\projects\\AI_gesture_control\\ObjectDetection\\Tensorflow\\workspace\\images\\collectedimages\\thumbsup\\thumbsup.3d2f1790-e6ce-11eb-b01a-28c63f8fd10c.jpg -> Annotation:E:\\projects\\AI_gesture_control\\ObjectDetection\\Tensorflow\\workspace\\images\\collectedimages\\thumbsup\\thumbsup.3d2f1790-e6ce-11eb-b01a-28c63f8fd10c.xml\n",
      "Image:E:\\projects\\AI_gesture_control\\ObjectDetection\\Tensorflow\\workspace\\images\\collectedimages\\thumbsup\\thumbsup.3d361cb4-e6ce-11eb-b71f-28c63f8fd10c.jpg -> Annotation:E:/projects/AI_gesture_control/ObjectDetection/Tensorflow/workspace/images/collectedimages/thumbsup/thumbsup.3d361cb4-e6ce-11eb-b71f-28c63f8fd10c.xml\n",
      "Image:E:\\projects\\AI_gesture_control\\ObjectDetection\\Tensorflow\\workspace\\images\\collectedimages\\thumbsup\\thumbsup.3f1f3454-e6ce-11eb-9181-28c63f8fd10c.jpg -> Annotation:E:/projects/AI_gesture_control/ObjectDetection/Tensorflow/workspace/images/collectedimages/thumbsup/thumbsup.3f1f3454-e6ce-11eb-9181-28c63f8fd10c.xml\n",
      "Image:E:\\projects\\AI_gesture_control\\ObjectDetection\\Tensorflow\\workspace\\images\\collectedimages\\thumbsup\\thumbsup.3f187dec-e6ce-11eb-8d9a-28c63f8fd10c.jpg -> Annotation:E:/projects/AI_gesture_control/ObjectDetection/Tensorflow/workspace/images/collectedimages/thumbsup/thumbsup.3f187dec-e6ce-11eb-8d9a-28c63f8fd10c.xml\n",
      "Image:E:\\projects\\AI_gesture_control\\ObjectDetection\\Tensorflow\\workspace\\images\\collectedimages\\thumbsup\\thumbsup.42ea1306-e6ce-11eb-ae5a-28c63f8fd10c.jpg -> Annotation:E:/projects/AI_gesture_control/ObjectDetection/Tensorflow/workspace/images/collectedimages/thumbsup/thumbsup.42ea1306-e6ce-11eb-ae5a-28c63f8fd10c.xml\n",
      "Image:E:\\projects\\AI_gesture_control\\ObjectDetection\\Tensorflow\\workspace\\images\\collectedimages\\thumbsup\\thumbsup.42ea1306-e6ce-11eb-ae5a-28c63f8fd10c.jpg -> Annotation:E:\\projects\\AI_gesture_control\\ObjectDetection\\Tensorflow\\workspace\\images\\collectedimages\\thumbsup\\thumbsup.42ea1306-e6ce-11eb-ae5a-28c63f8fd10c.xml\n",
      "Image:E:\\projects\\AI_gesture_control\\ObjectDetection\\Tensorflow\\workspace\\images\\collectedimages\\thumbsup\\thumbsup.42efde90-e6ce-11eb-a862-28c63f8fd10c.jpg -> Annotation:E:/projects/AI_gesture_control/ObjectDetection/Tensorflow/workspace/images/collectedimages/thumbsup/thumbsup.42efde90-e6ce-11eb-a862-28c63f8fd10c.xml\n",
      "Image:E:\\projects\\AI_gesture_control\\ObjectDetection\\Tensorflow\\workspace\\images\\collectedimages\\thumbsup\\thumbsup.2fa09b06-e6ce-11eb-a3f5-28c63f8fd10c.jpg -> Annotation:E:/projects/AI_gesture_control/ObjectDetection/Tensorflow/workspace/images/collectedimages/thumbsup/thumbsup.2fa09b06-e6ce-11eb-a3f5-28c63f8fd10c.xml\n",
      "Image:E:\\projects\\AI_gesture_control\\ObjectDetection\\Tensorflow\\workspace\\images\\collectedimages\\thumbsup\\thumbsup.3b3cfb86-e6ce-11eb-a50c-28c63f8fd10c.jpg -> Annotation:E:/projects/AI_gesture_control/ObjectDetection/Tensorflow/workspace/images/collectedimages/thumbsup/thumbsup.3b3cfb86-e6ce-11eb-a50c-28c63f8fd10c.xml\n",
      "Image:E:\\projects\\AI_gesture_control\\ObjectDetection\\Tensorflow\\workspace\\images\\collectedimages\\thumbsup\\thumbsup.3b434ea4-e6ce-11eb-be98-28c63f8fd10c.jpg -> Annotation:E:/projects/AI_gesture_control/ObjectDetection/Tensorflow/workspace/images/collectedimages/thumbsup/thumbsup.3b434ea4-e6ce-11eb-be98-28c63f8fd10c.xml\n",
      "Image:E:\\projects\\AI_gesture_control\\ObjectDetection\\Tensorflow\\workspace\\images\\collectedimages\\thumbsup\\thumbsup.3d2f1790-e6ce-11eb-b01a-28c63f8fd10c.jpg -> Annotation:E:/projects/AI_gesture_control/ObjectDetection/Tensorflow/workspace/images/collectedimages/thumbsup/thumbsup.3d2f1790-e6ce-11eb-b01a-28c63f8fd10c.xml\n",
      "Image:E:\\projects\\AI_gesture_control\\ObjectDetection\\Tensorflow\\workspace\\images\\collectedimages\\thumbsup\\thumbsup.3d361cb4-e6ce-11eb-b71f-28c63f8fd10c.jpg -> Annotation:E:/projects/AI_gesture_control/ObjectDetection/Tensorflow/workspace/images/collectedimages/thumbsup/thumbsup.3d361cb4-e6ce-11eb-b71f-28c63f8fd10c.xml\n",
      "Image:E:\\projects\\AI_gesture_control\\ObjectDetection\\Tensorflow\\workspace\\images\\collectedimages\\thumbsup\\thumbsup.3f1f3454-e6ce-11eb-9181-28c63f8fd10c.jpg -> Annotation:E:/projects/AI_gesture_control/ObjectDetection/Tensorflow/workspace/images/collectedimages/thumbsup/thumbsup.3f1f3454-e6ce-11eb-9181-28c63f8fd10c.xml\n",
      "Image:E:\\projects\\AI_gesture_control\\ObjectDetection\\Tensorflow\\workspace\\images\\collectedimages\\thumbsup\\thumbsup.3f187dec-e6ce-11eb-8d9a-28c63f8fd10c.jpg -> Annotation:E:/projects/AI_gesture_control/ObjectDetection/Tensorflow/workspace/images/collectedimages/thumbsup/thumbsup.3f187dec-e6ce-11eb-8d9a-28c63f8fd10c.xml\n",
      "Image:E:\\projects\\AI_gesture_control\\ObjectDetection\\Tensorflow\\workspace\\images\\collectedimages\\thumbsup\\thumbsup.42ea1306-e6ce-11eb-ae5a-28c63f8fd10c.jpg -> Annotation:E:/projects/AI_gesture_control/ObjectDetection/Tensorflow/workspace/images/collectedimages/thumbsup/thumbsup.42ea1306-e6ce-11eb-ae5a-28c63f8fd10c.xml\n",
      "Image:E:\\projects\\AI_gesture_control\\ObjectDetection\\Tensorflow\\workspace\\images\\collectedimages\\thumbsup\\thumbsup.42ea1306-e6ce-11eb-ae5a-28c63f8fd10c.jpg -> Annotation:E:\\projects\\AI_gesture_control\\ObjectDetection\\Tensorflow\\workspace\\images\\collectedimages\\thumbsup\\thumbsup.42ea1306-e6ce-11eb-ae5a-28c63f8fd10c.xml\n",
      "Image:E:\\projects\\AI_gesture_control\\ObjectDetection\\Tensorflow\\workspace\\images\\collectedimages\\thumbsup\\thumbsup.42efde90-e6ce-11eb-a862-28c63f8fd10c.jpg -> Annotation:E:/projects/AI_gesture_control/ObjectDetection/Tensorflow/workspace/images/collectedimages/thumbsup/thumbsup.42efde90-e6ce-11eb-a862-28c63f8fd10c.xml\n"
     ]
    }
   ],
   "source": [
    "!cd {LABELIMG_PATH} && python labelImg.py"
   ]
  },
  {
   "cell_type": "markdown",
   "id": "846e70ae",
   "metadata": {},
   "source": [
    "# Move them into training and testing partition"
   ]
  },
  {
   "cell_type": "code",
   "execution_count": null,
   "id": "62859a6b",
   "metadata": {},
   "outputs": [],
   "source": []
  }
 ],
 "metadata": {
  "kernelspec": {
   "display_name": "Python 3",
   "language": "python",
   "name": "python3"
  },
  "language_info": {
   "codemirror_mode": {
    "name": "ipython",
    "version": 3
   },
   "file_extension": ".py",
   "mimetype": "text/x-python",
   "name": "python",
   "nbconvert_exporter": "python",
   "pygments_lexer": "ipython3",
   "version": "3.6.13"
  }
 },
 "nbformat": 4,
 "nbformat_minor": 5
}
